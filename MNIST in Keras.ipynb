{
  "cells": [
    {
      "cell_type": "code",
      "execution_count": null,
      "metadata": {
        "collapsed": true,
        "id": "iH6lxNaopD8J"
      },
      "outputs": [],
      "source": [
        "%matplotlib inline"
      ]
    },
    {
      "cell_type": "markdown",
      "metadata": {
        "id": "CFX32ksapD8P"
      },
      "source": [
        "# Introduction to Deep Learning with Keras and TensorFlow\n",
        "\n",
        "**Daniel Moser (UT Southwestern Medical Center)**\n",
        "\n",
        "**Resources: [Xavier Snelgrove](https://github.com/wxs/keras-mnist-tutorial), [Yash Katariya](https://github.com/yashk2810/MNIST-Keras)**"
      ]
    },
    {
      "cell_type": "markdown",
      "metadata": {
        "id": "qsGJs1UepD8R"
      },
      "source": [
        "To help you understand the fundamentals of deep learning, this demo will walk through the basic steps of building two toy models for classifying handwritten numbers with accuracies surpassing 95%. The first model will be a basic fully-connected neural network, and the second model will be a deeper network that introduces the concepts of convolution and pooling."
      ]
    },
    {
      "cell_type": "markdown",
      "metadata": {
        "id": "COpuQaoepD8S"
      },
      "source": [
        "## The Task for the AI\n",
        "\n",
        "Our goal is to construct and train an artificial neural network on thousands of images of handwritten digits so that it may successfully identify others when presented. The data that will be incorporated is the MNIST database which contains 60,000 images for training and 10,000 test images. We will use the Keras Python API with TensorFlow as the backend."
      ]
    },
    {
      "cell_type": "markdown",
      "metadata": {
        "id": "gPdRerfYpD8T"
      },
      "source": [
        "<img src=\"https://github.com/AviatorMoser/keras-mnist-tutorial/blob/master/mnist.png?raw=1\" >"
      ]
    },
    {
      "cell_type": "markdown",
      "metadata": {
        "id": "xN-RBMGgpD8T"
      },
      "source": [
        "## Prerequisite Python Modules\n",
        "\n",
        "First, some software needs to be loaded into the Python environment."
      ]
    },
    {
      "cell_type": "code",
      "execution_count": 1,
      "metadata": {
        "id": "nZnsanQ8pD8T"
      },
      "outputs": [],
      "source": [
        "import numpy as np                   # advanced math library\n",
        "import matplotlib.pyplot as plt      # MATLAB like plotting routines\n",
        "import random                        # for generating random numbers\n",
        "\n",
        "from keras.datasets import mnist     # MNIST dataset is included in Keras\n",
        "from keras.models import Sequential  # Model type to be used\n",
        "\n",
        "from keras.layers.core import Dense, Dropout, Activation # Types of layers to be used in our model\n",
        "from keras.utils import np_utils                         # NumPy related tools"
      ]
    },
    {
      "cell_type": "markdown",
      "metadata": {
        "id": "LcT7o34UpD8U"
      },
      "source": [
        "## Loading Training Data\n",
        "\n",
        "The MNIST dataset is conveniently bundled within Keras, and we can easily analyze some of its features in Python."
      ]
    },
    {
      "cell_type": "code",
      "execution_count": 2,
      "metadata": {
        "id": "ksOYy_DSpD8U",
        "outputId": "10b113d1-1808-4f59-f9ad-721f9148758f",
        "colab": {
          "base_uri": "https://localhost:8080/"
        }
      },
      "outputs": [
        {
          "output_type": "stream",
          "name": "stdout",
          "text": [
            "Downloading data from https://storage.googleapis.com/tensorflow/tf-keras-datasets/mnist.npz\n",
            "11490434/11490434 [==============================] - 0s 0us/step\n",
            "X_train shape (60000, 28, 28)\n",
            "y_train shape (60000,)\n",
            "X_test shape (10000, 28, 28)\n",
            "y_test shape (10000,)\n"
          ]
        }
      ],
      "source": [
        "# The MNIST data is split between 60,000 28 x 28 pixel training images and 10,000 28 x 28 pixel images\n",
        "(X_train, y_train), (X_test, y_test) = mnist.load_data()\n",
        "\n",
        "print(\"X_train shape\", X_train.shape)\n",
        "print(\"y_train shape\", y_train.shape)\n",
        "print(\"X_test shape\", X_test.shape)\n",
        "print(\"y_test shape\", y_test.shape)"
      ]
    },
    {
      "cell_type": "markdown",
      "metadata": {
        "id": "Nu0624wBpD8V"
      },
      "source": [
        "Using matplotlib, we can plot some sample images from the training set directly into this Jupyter Notebook."
      ]
    },
    {
      "cell_type": "code",
      "execution_count": 3,
      "metadata": {
        "id": "HKfkTeQZpD8W",
        "outputId": "a3b159d1-5f20-47c2-fe97-8400c2bea254",
        "colab": {
          "base_uri": "https://localhost:8080/",
          "height": 657
        }
      },
      "outputs": [
        {
          "output_type": "display_data",
          "data": {
            "text/plain": [
              "<Figure size 648x648 with 9 Axes>"
            ],
            "image/png": "[encoded data removed]"
          },
          "metadata": {
            "needs_background": "light"
          }
        }
      ],
      "source": [
        "plt.rcParams['figure.figsize'] = (9,9) # Make the figures a bit bigger\n",
        "\n",
        "for i in range(9):\n",
        "    plt.subplot(3,3,i+1)\n",
        "    num = random.randint(0, len(X_train))\n",
        "    plt.imshow(X_train[num], cmap='gray', interpolation='none')\n",
        "    plt.title(\"Class {}\".format(y_train[num]))\n",
        "    \n",
        "plt.tight_layout()"
      ]
    },
    {
      "cell_type": "markdown",
      "metadata": {
        "id": "KUwDcTBFpD8W"
      },
      "source": [
        "Let's examine a single digit a little closer, and print out the array representing the last digit."
      ]
    },
    {
      "cell_type": "code",
      "execution_count": 4,
      "metadata": {
        "id": "g-rT0O1upD8W",
        "outputId": "0e828b43-2423-473b-fee6-9a6aaf170327",
        "colab": {
          "base_uri": "https://localhost:8080/"
        }
      },
      "outputs": [
        {
          "output_type": "stream",
          "name": "stdout",
          "text": [
            "0  0  0  0  0  0    0    0    0    0    0    0    0    0    0    0    0    0    0    0    0    0    0    0    0    0  0  0  \n",
            "0  0  0  0  0  0    0    0    0    0    0    0    0    0    0    0    0    0    0    0    0    0    0    0    0    0  0  0  \n",
            "0  0  0  0  0  0    0    0    0    0    0    0    0    0    0    0    0    0    0    0    0    0    0    0    0    0  0  0  \n",
            "0  0  0  0  0  0    0    0    0    0    0    0    0    0    0    0    0    0    0    0    0    0    0    0    0    0  0  0  \n",
            "0  0  0  0  0  0    0    0    0    0    0    0    0    0    0    0    0    0    0    0    0    0    0    0    0    0  0  0  \n",
            "0  0  0  0  0  0    0    0    0    0    0    0    0    0    0    0    0    0    0    0   22  120  138   13    0    0  0  0  \n",
            "0  0  0  0  0  0    0    0    0    0    0    0   85  157   18    0    0    0    0   35  188  252  245   30    0    0  0  0  \n",
            "0  0  0  0  0  0    0    0    0    0    0   79  221  252  156    0    0    0   40  227  252  252  198    0    0    0  0  0  \n",
            "0  0  0  0  0  0    0    0    0    0   39  227  252  248   64    0    0   35  227  252  252  158    6    0    0    0  0  0  \n",
            "0  0  0  0  0  0    0    0    0   39  222  252  252  184    0    0    8  155  252  252  144   19    0    0    0    0  0  0  \n",
            "0  0  0  0  0  0    0    0    0  219  252  252  205   22    0    0  120  252  252  158   19    0    0    0    0    0  0  0  \n",
            "0  0  0  0  0  0    0    3  146  251  252  244   78    0    0   58  244  252  205    6    0    0    0    0    0    0  0  0  \n",
            "0  0  0  0  0  0    0  133  252  252  219   22    0    0   14  226  253  241   79    0    0    0    0    8   45    6  0  0  \n",
            "0  0  0  0  0  0   59  233  252  246   89    0    0   67  207  252  253  186    0   75   78  164  187  199  252  114  0  0  \n",
            "0  0  0  0  0  0  239  252  252  240   63  111  116  240  252  252  253  244  220  251  252  252  252  252  252  238  0  0  \n",
            "0  0  0  0  0  0  240  253  253  253  253  253  253  253  253  253  255  253  253  253  253  253  253  253  229  125  0  0  \n",
            "0  0  0  0  0  0   58  232  252  252  252  252  252  252  252  223  253  206  186  215  186  186  189  241   49    0  0  0  \n",
            "0  0  0  0  0  0    0   31  134  153  153  231  252  252  188   25   44   13    0   19    0    0    7   79    0    0  0  0  \n",
            "0  0  0  0  0  0    0    0    0    0   39  227  252  210    7    0    0    0    0    0    0    0    0    0    0    0  0  0  \n",
            "0  0  0  0  0  0    0    0    0  111  222  252  252  218   15    0    0    0    0    0    0    0    0    0    0    0  0  0  \n",
            "0  0  0  0  0  0    0    0   79  250  252  252  252  252  212   26    0    0    0    0    0    0    0    0    0    0  0  0  \n",
            "0  0  0  0  0  0    0    0  100  252  252  252  252  243  249   31    0    0    0    0    0    0    0    0    0    0  0  0  \n",
            "0  0  0  0  0  0    0    0  100  252  252  252  154   18   69    0    0    0    0    0    0    0    0    0    0    0  0  0  \n",
            "0  0  0  0  0  0    0    0   69  249  252  225   15    0    0    0    0    0    0    0    0    0    0    0    0    0  0  0  \n",
            "0  0  0  0  0  0    0    0    0   31   33   21    0    0    0    0    0    0    0    0    0    0    0    0    0    0  0  0  \n",
            "0  0  0  0  0  0    0    0    0    0    0    0    0    0    0    0    0    0    0    0    0    0    0    0    0    0  0  0  \n",
            "0  0  0  0  0  0    0    0    0    0    0    0    0    0    0    0    0    0    0    0    0    0    0    0    0    0  0  0  \n",
            "0  0  0  0  0  0    0    0    0    0    0    0    0    0    0    0    0    0    0    0    0    0    0    0    0    0  0  0  \n"
          ]
        }
      ],
      "source": [
        "# just a little function for pretty printing a matrix\n",
        "def matprint(mat, fmt=\"g\"):\n",
        "    col_maxes = [max([len((\"{:\"+fmt+\"}\").format(x)) for x in col]) for col in mat.T]\n",
        "    for x in mat:\n",
        "        for i, y in enumerate(x):\n",
        "            print((\"{:\"+str(col_maxes[i])+fmt+\"}\").format(y), end=\"  \")\n",
        "        print(\"\")\n",
        "\n",
        "# now print!        \n",
        "matprint(X_train[num])"
      ]
    },
    {
      "cell_type": "markdown",
      "metadata": {
        "id": "OrkK1Q7-pD8X"
      },
      "source": [
        "Each pixel is an 8-bit integer from 0-255. 0 is full black, while 255 is full white. This what we call a single-channel pixel. It's called monochrome.\n",
        "\n",
        "*Fun-fact! Your computer screen has three channels for each pixel: red, green, blue. Each of these channels also likely takes an 8-bit integer. 3 channels -- 24 bits total -- 16,777,216 possible colors!*"
      ]
    },
    {
      "cell_type": "markdown",
      "metadata": {
        "id": "dbKABAECpD8X"
      },
      "source": [
        "## Formatting the input data layer\n",
        "\n",
        "Instead of a 28 x 28 matrix, we build our network to accept a 784-length vector.\n",
        "\n",
        "Each image needs to be then reshaped (or flattened) into a vector. We'll also normalize the inputs to be in the range [0-1] rather than [0-255]. Normalizing inputs is generally recommended, so that any additional dimensions (for other network architectures) are of the same scale."
      ]
    },
    {
      "cell_type": "markdown",
      "metadata": {
        "id": "BFZaR9nTpD8X"
      },
      "source": [
        "<img src='https://github.com/AviatorMoser/keras-mnist-tutorial/blob/master/flatten.png?raw=1' >"
      ]
    },
    {
      "cell_type": "code",
      "execution_count": 5,
      "metadata": {
        "id": "2DxpnJJwpD8Y",
        "outputId": "f3b18c17-c726-4e34-c3e9-1c72694644b5",
        "colab": {
          "base_uri": "https://localhost:8080/"
        }
      },
      "outputs": [
        {
          "output_type": "stream",
          "name": "stdout",
          "text": [
            "Training matrix shape (60000, 784)\n",
            "Testing matrix shape (10000, 784)\n"
          ]
        }
      ],
      "source": [
        "X_train = X_train.reshape(60000, 784) # reshape 60,000 28 x 28 matrices into 60,000 784-length vectors.\n",
        "X_test = X_test.reshape(10000, 784)   # reshape 10,000 28 x 28 matrices into 10,000 784-length vectors.\n",
        "\n",
        "X_train = X_train.astype('float32')   # change integers to 32-bit floating point numbers\n",
        "X_test = X_test.astype('float32')\n",
        "\n",
        "X_train /= 255                        # normalize each value for each pixel for the entire vector for each input\n",
        "X_test /= 255\n",
        "\n",
        "print(\"Training matrix shape\", X_train.shape)\n",
        "print(\"Testing matrix shape\", X_test.shape)"
      ]
    },
    {
      "cell_type": "markdown",
      "metadata": {
        "id": "BnuIc6t0pD8Y"
      },
      "source": [
        "We then modify our classes (unique digits) to be in the one-hot format, i.e.\n",
        "\n",
        "```\n",
        "0 -> [1, 0, 0, 0, 0, 0, 0, 0, 0]\n",
        "1 -> [0, 1, 0, 0, 0, 0, 0, 0, 0]\n",
        "2 -> [0, 0, 1, 0, 0, 0, 0, 0, 0]\n",
        "etc.\n",
        "```\n",
        "\n",
        "If the final output of our network is very close to one of these classes, then it is most likely that class. For example, if the final output is:\n",
        "\n",
        "```\n",
        "[0, 0.94, 0, 0, 0, 0, 0.06, 0, 0]\n",
        "```\n",
        "then it is most probable that the image is that of the digit `1`."
      ]
    },
    {
      "cell_type": "code",
      "execution_count": 6,
      "metadata": {
        "collapsed": true,
        "id": "AE3-8SlPpD8Y"
      },
      "outputs": [],
      "source": [
        "nb_classes = 10 # number of unique digits\n",
        "\n",
        "Y_train = np_utils.to_categorical(y_train, nb_classes)\n",
        "Y_test = np_utils.to_categorical(y_test, nb_classes)"
      ]
    },
    {
      "cell_type": "markdown",
      "metadata": {
        "id": "kc8McM0QpD8Z"
      },
      "source": [
        "# Building a 3-layer fully connected network (FCN)\n",
        "\n",
        "<img src=\"https://github.com/AviatorMoser/keras-mnist-tutorial/blob/master/figure.png?raw=1\" />"
      ]
    },
    {
      "cell_type": "code",
      "execution_count": 7,
      "metadata": {
        "collapsed": true,
        "id": "jQE41uAvpD8Z"
      },
      "outputs": [],
      "source": [
        "# The Sequential model is a linear stack of layers and is very common.\n",
        "\n",
        "model = Sequential()"
      ]
    },
    {
      "cell_type": "markdown",
      "metadata": {
        "id": "b0iPbHaKpD8Z"
      },
      "source": [
        "## The first hidden layer"
      ]
    },
    {
      "cell_type": "code",
      "execution_count": 8,
      "metadata": {
        "collapsed": true,
        "id": "ch4UwWnEpD8Z"
      },
      "outputs": [],
      "source": [
        "# The first hidden layer is a set of 512 nodes (artificial neurons).\n",
        "# Each node will receive an element from each input vector and apply some weight and bias to it.\n",
        "\n",
        "model.add(Dense(512, input_shape=(784,))) #(784,) is not a typo -- that represents a 784 length vector!"
      ]
    },
    {
      "cell_type": "code",
      "execution_count": 9,
      "metadata": {
        "collapsed": true,
        "id": "1b2O0Y7WpD8a"
      },
      "outputs": [],
      "source": [
        "# An \"activation\" is a non-linear function applied to the output of the layer above.\n",
        "# It checks the new value of the node, and decides whether that artifical neuron has fired.\n",
        "# The Rectified Linear Unit (ReLU) converts all negative inputs to nodes in the next layer to be zero.\n",
        "# Those inputs are then not considered to be fired.\n",
        "# Positive values of a node are unchanged.\n",
        "\n",
        "model.add(Activation('relu'))"
      ]
    },
    {
      "cell_type": "markdown",
      "metadata": {
        "id": "uMn9aDyHpD8a"
      },
      "source": [
        "$$f(x) = max (0,x)$$\n",
        "<img src = 'relu.jpg' >"
      ]
    },
    {
      "cell_type": "code",
      "execution_count": 10,
      "metadata": {
        "collapsed": true,
        "id": "91zP7qk9pD8a"
      },
      "outputs": [],
      "source": [
        "# Dropout zeroes a selection of random outputs (i.e., disables their activation)\n",
        "# Dropout helps protect the model from memorizing or \"overfitting\" the training data.\n",
        "model.add(Dropout(0.2))"
      ]
    },
    {
      "cell_type": "markdown",
      "metadata": {
        "id": "wmQEY_eZpD8b"
      },
      "source": [
        "## Adding the second hidden layer"
      ]
    },
    {
      "cell_type": "code",
      "execution_count": 11,
      "metadata": {
        "collapsed": true,
        "id": "fRrLJX7RpD8b"
      },
      "outputs": [],
      "source": [
        "# The second hidden layer appears identical to our first layer.\n",
        "# However, instead of each of the 512-node receiving 784-inputs from the input image data,\n",
        "# they receive 512 inputs from the output of the first 512-node layer.\n",
        "\n",
        "model.add(Dense(512))\n",
        "model.add(Activation('relu'))\n",
        "model.add(Dropout(0.2))"
      ]
    },
    {
      "cell_type": "markdown",
      "metadata": {
        "id": "V4YS6jhZpD8c"
      },
      "source": [
        "## The Final Output Layer"
      ]
    },
    {
      "cell_type": "code",
      "execution_count": 12,
      "metadata": {
        "collapsed": true,
        "id": "oZWFCHSMpD8c"
      },
      "outputs": [],
      "source": [
        "# The final layer of 10 neurons in fully-connected to the previous 512-node layer.\n",
        "# The final layer of a FCN should be equal to the number of desired classes (10 in this case).\n",
        "model.add(Dense(10))"
      ]
    },
    {
      "cell_type": "code",
      "execution_count": 13,
      "metadata": {
        "collapsed": true,
        "id": "ukCwDMkKpD8d"
      },
      "outputs": [],
      "source": [
        "# The \"softmax\" activation represents a probability distribution over K different possible outcomes.\n",
        "# Its values are all non-negative and sum to 1.\n",
        "\n",
        "model.add(Activation('softmax'))"
      ]
    },
    {
      "cell_type": "code",
      "execution_count": 14,
      "metadata": {
        "id": "9bkdM7KPpD8d",
        "outputId": "6adecfad-086f-4a5f-c481-2562ce2bd9ea",
        "colab": {
          "base_uri": "https://localhost:8080/"
        }
      },
      "outputs": [
        {
          "output_type": "stream",
          "name": "stdout",
          "text": [
            "Model: \"sequential\"\n",
            "_________________________________________________________________\n",
            " Layer (type)                Output Shape              Param #   \n",
            "=================================================================\n",
            " dense (Dense)               (None, 512)               401920    \n",
            "                                                                 \n",
            " activation (Activation)     (None, 512)               0         \n",
            "                                                                 \n",
            " dropout (Dropout)           (None, 512)               0         \n",
            "                                                                 \n",
            " dense_1 (Dense)             (None, 512)               262656    \n",
            "                                                                 \n",
            " activation_1 (Activation)   (None, 512)               0         \n",
            "                                                                 \n",
            " dropout_1 (Dropout)         (None, 512)               0         \n",
            "                                                                 \n",
            " dense_2 (Dense)             (None, 10)                5130      \n",
            "                                                                 \n",
            " activation_2 (Activation)   (None, 10)                0         \n",
            "                                                                 \n",
            "=================================================================\n",
            "Total params: 669,706\n",
            "Trainable params: 669,706\n",
            "Non-trainable params: 0\n",
            "_________________________________________________________________\n"
          ]
        }
      ],
      "source": [
        "# Summarize the built model\n",
        "\n",
        "model.summary()"
      ]
    },
    {
      "cell_type": "markdown",
      "metadata": {
        "id": "GgzAbdgfpD8e"
      },
      "source": [
        "## Compiling the model\n",
        "\n",
        "Keras is built on top of Theano and TensorFlow. Both packages allow you to define a *computation graph* in Python, which then compiles and runs efficiently on the CPU or GPU without the overhead of the Python interpreter.\n",
        "\n",
        "When compiing a model, Keras asks you to specify your **loss function** and your **optimizer**. The loss function we'll use here is called *categorical cross-entropy*, and is a loss function well-suited to comparing two probability distributions.\n",
        "\n",
        "Our predictions are probability distributions across the ten different digits (e.g. \"we're 80% confident this image is a 3, 10% sure it's an 8, 5% it's a 2, etc.\"), and the target is a probability distribution with 100% for the correct category, and 0 for everything else. The cross-entropy is a measure of how different your predicted distribution is from the target distribution. [More detail at Wikipedia](https://en.wikipedia.org/wiki/Cross_entropy)\n",
        "\n",
        "The optimizer helps determine how quickly the model learns through **gradient descent**. The rate at which descends a gradient is called the **learning rate**."
      ]
    },
    {
      "cell_type": "markdown",
      "metadata": {
        "id": "aDaKjRNrpD8e"
      },
      "source": [
        "<img src = \"gradient_descent.png\" >"
      ]
    },
    {
      "cell_type": "markdown",
      "metadata": {
        "id": "dBj34PWNpD8e"
      },
      "source": [
        "<img src = \"learning_rate.png\" >"
      ]
    },
    {
      "cell_type": "markdown",
      "metadata": {
        "id": "iXtm8WROpD8e"
      },
      "source": [
        "So are smaller learning rates better? Not quite! It's important for an optimizer not to get stuck in local minima while neglecting the global minimum of the loss function. Sometimes that means trying a larger learning rate to jump out of a local minimum."
      ]
    },
    {
      "cell_type": "markdown",
      "metadata": {
        "id": "iSf2cd5bpD8f"
      },
      "source": [
        "<img src = 'complicated_loss_function.png' >"
      ]
    },
    {
      "cell_type": "code",
      "execution_count": 15,
      "metadata": {
        "collapsed": true,
        "id": "EnnmT1vZpD8f"
      },
      "outputs": [],
      "source": [
        "# Let's use the Adam optimizer for learning\n",
        "model.compile(loss='categorical_crossentropy', optimizer='adam', metrics=['accuracy'])"
      ]
    },
    {
      "cell_type": "markdown",
      "metadata": {
        "id": "C_1cELKNpD8f"
      },
      "source": [
        "## Train the model!\n",
        "This is the fun part! "
      ]
    },
    {
      "cell_type": "markdown",
      "metadata": {
        "id": "arBKiVq1pD8f"
      },
      "source": [
        "The batch size determines over how much data per step is used to compute the loss function, gradients, and back propagation. Large batch sizes allow the network to complete it's training faster; however, there are other factors beyond training speed to consider.\n",
        "\n",
        "Too large of a batch size smoothes the local minima of the loss function, causing the optimizer to settle in one because it thinks it found the global minimum.\n",
        "\n",
        "Too small of a batch size creates a very noisy loss function, and the optimizer may never find the global minimum.\n",
        "\n",
        "So a good batch size may take some trial and error to find!"
      ]
    },
    {
      "cell_type": "code",
      "execution_count": 16,
      "metadata": {
        "id": "BNbA1ZcapD8g",
        "outputId": "172c83c2-270d-4bc2-82f3-ea9540a8277a",
        "colab": {
          "base_uri": "https://localhost:8080/"
        }
      },
      "outputs": [
        {
          "output_type": "stream",
          "name": "stdout",
          "text": [
            "Epoch 1/5\n",
            "469/469 [==============================] - 8s 15ms/step - loss: 0.2501 - accuracy: 0.9244\n",
            "Epoch 2/5\n",
            "469/469 [==============================] - 7s 15ms/step - loss: 0.1009 - accuracy: 0.9688\n",
            "Epoch 3/5\n",
            "469/469 [==============================] - 7s 15ms/step - loss: 0.0705 - accuracy: 0.9778\n",
            "Epoch 4/5\n",
            "469/469 [==============================] - 7s 15ms/step - loss: 0.0577 - accuracy: 0.9813\n",
            "Epoch 5/5\n",
            "469/469 [==============================] - 7s 15ms/step - loss: 0.0451 - accuracy: 0.9856\n"
          ]
        },
        {
          "output_type": "execute_result",
          "data": {
            "text/plain": [
              "<keras.callbacks.History at 0x7fdc7e5ecee0>"
            ]
          },
          "metadata": {},
          "execution_count": 16
        }
      ],
      "source": [
        "model.fit(X_train, Y_train,\n",
        "          batch_size=128, epochs=5,\n",
        "          verbose=1)"
      ]
    },
    {
      "cell_type": "markdown",
      "metadata": {
        "id": "4dGu8t83pD8g"
      },
      "source": [
        "The two numbers, in order, represent the value of the loss function of the network on the training set, and the overall accuracy of the network on the training data. But how does it do on data it did not train on?"
      ]
    },
    {
      "cell_type": "markdown",
      "metadata": {
        "id": "mwXNSe7VpD8g"
      },
      "source": [
        "## Evaluate Model's Accuracy on Test Data"
      ]
    },
    {
      "cell_type": "code",
      "execution_count": 17,
      "metadata": {
        "id": "p9PermFkpD8h",
        "outputId": "ab495783-5241-4155-f8a5-b3d6e0d069f5",
        "colab": {
          "base_uri": "https://localhost:8080/"
        }
      },
      "outputs": [
        {
          "output_type": "stream",
          "name": "stdout",
          "text": [
            "313/313 [==============================] - 3s 7ms/step - loss: 0.0597 - accuracy: 0.9809\n",
            "Test score: 0.059691112488508224\n",
            "Test accuracy: 0.98089998960495\n"
          ]
        }
      ],
      "source": [
        "score = model.evaluate(X_test, Y_test)\n",
        "print('Test score:', score[0])\n",
        "print('Test accuracy:', score[1])"
      ]
    },
    {
      "cell_type": "markdown",
      "metadata": {
        "id": "PXzLs1okpD8h"
      },
      "source": [
        "### Inspecting the output\n",
        "\n",
        "It's always a good idea to inspect the output and make sure everything looks sane. Here we'll look at some examples it gets right, and some examples it gets wrong."
      ]
    },
    {
      "cell_type": "code",
      "execution_count": 21,
      "metadata": {
        "collapsed": true,
        "id": "HZ2yhSsipD8h",
        "outputId": "30787638-a158-4360-bac9-9b668b4da557",
        "colab": {
          "base_uri": "https://localhost:8080/"
        }
      },
      "outputs": [
        {
          "output_type": "stream",
          "name": "stdout",
          "text": [
            "313/313 [==============================] - 2s 5ms/step\n"
          ]
        },
        {
          "output_type": "stream",
          "name": "stderr",
          "text": [
            "<ipython-input-21-6b84db56d2c2>:7: DeprecationWarning: elementwise comparison failed; this will raise an error in the future.\n",
            "  correct_indices = np.nonzero(predicted_classes == y_test)[0]\n",
            "<ipython-input-21-6b84db56d2c2>:9: DeprecationWarning: elementwise comparison failed; this will raise an error in the future.\n",
            "  incorrect_indices = np.nonzero(predicted_classes != y_test)[0]\n"
          ]
        }
      ],
      "source": [
        "# The predict_classes function outputs the highest probability class\n",
        "# according to the trained classifier for each input example.\n",
        "# print(model.predict(X_test))\n",
        "predicted_classes = model.predict(X_test)\n",
        "\n",
        "# Check which items we got right / wrong\n",
        "correct_indices = np.nonzero(predicted_classes == y_test)[0]\n",
        "\n",
        "incorrect_indices = np.nonzero(predicted_classes != y_test)[0]"
      ]
    },
    {
      "cell_type": "code",
      "execution_count": 22,
      "metadata": {
        "id": "Z-dirR05pD8h",
        "outputId": "edf58110-07cb-4edc-b731-d8411d2f0db4",
        "colab": {
          "base_uri": "https://localhost:8080/",
          "height": 103
        }
      },
      "outputs": [
        {
          "output_type": "display_data",
          "data": {
            "text/plain": [
              "<Figure size 648x648 with 0 Axes>"
            ]
          },
          "metadata": {}
        },
        {
          "output_type": "display_data",
          "data": {
            "text/plain": [
              "<Figure size 648x648 with 1 Axes>"
            ],
            "image/png": "[encoded data removed]"
          },
          "metadata": {
            "needs_background": "light"
          }
        }
      ],
      "source": [
        "plt.figure()\n",
        "for i, correct in enumerate(correct_indices[:9]):\n",
        "    plt.subplot(3,3,i+1)\n",
        "    plt.imshow(X_test[correct].reshape(28,28), cmap='gray', interpolation='none')\n",
        "    plt.title(\"Predicted {}, Class {}\".format(predicted_classes[correct], y_test[correct]))\n",
        "    \n",
        "plt.tight_layout()\n",
        "    \n",
        "plt.figure()\n",
        "for i, incorrect in enumerate(incorrect_indices[:9]):\n",
        "    plt.subplot(3,3,i+1)\n",
        "    plt.imshow(X_test[incorrect].reshape(28,28), cmap='gray', interpolation='none')\n",
        "    plt.title(\"Predicted {}, Class {}\".format(predicted_classes[incorrect], y_test[incorrect]))\n",
        "    \n",
        "plt.tight_layout()"
      ]
    },
    {
      "cell_type": "markdown",
      "metadata": {
        "id": "_HPH9y_GpD8i"
      },
      "source": [
        "# Trying experimenting with the batch size!\n",
        "\n",
        "#### How does increasing the batch size to 10,000 affect the training time and test accuracy?\n",
        "\n",
        "#### How about a batch size of 32?"
      ]
    },
    {
      "cell_type": "markdown",
      "metadata": {
        "id": "dxVzXuCupD8i"
      },
      "source": [
        "# Introducing Convolution! What is it?"
      ]
    },
    {
      "cell_type": "markdown",
      "metadata": {
        "id": "zDvJb5r3pD8i"
      },
      "source": [
        "Before, we built a network that accepts the normalized pixel values of each value and operates soley on those values. What if we could instead feed different features (e.g. **curvature, edges**) of each image into a network, and have the network learn which features are important for classifying an image?\n",
        "\n",
        "This possible through convolution! Convolution applies **kernels** (filters) that traverse through each image and generate **feature maps**."
      ]
    },
    {
      "cell_type": "markdown",
      "metadata": {
        "id": "Fu-bu9FApD8i"
      },
      "source": [
        "<img src = 'convolution.gif' >"
      ]
    },
    {
      "cell_type": "markdown",
      "metadata": {
        "id": "yN9F_l0CpD8i"
      },
      "source": [
        "In the above example, the image is a 5 x 5 matrix and the kernel going over it is a 3 x 3 matrix. A dot product operation takes place between the image and the kernel and the convolved feature is generated. Each kernel in a CNN learns a different characteristic of an image.\n",
        "\n",
        "Kernels are often used in photoediting software to apply blurring, edge detection, sharpening, etc."
      ]
    },
    {
      "cell_type": "markdown",
      "metadata": {
        "id": "RKNBMkAEpD8j"
      },
      "source": [
        "<img src = 'kernels.png' >"
      ]
    },
    {
      "cell_type": "markdown",
      "metadata": {
        "id": "4afC8PxbpD8j"
      },
      "source": [
        "Kernels in deep learning networks are used in similar ways, i.e. highlighting some feature. Combined with a system called **max pooling**, the non-highlighted elements are discarded from each feature map, leaving only the features of interest, reducing the number of learned parameters, and decreasing the computational cost (e.g. system memory)."
      ]
    },
    {
      "cell_type": "markdown",
      "metadata": {
        "id": "lijLDczdpD8j"
      },
      "source": [
        "<img src = 'max_pooling.png' >"
      ]
    },
    {
      "cell_type": "markdown",
      "metadata": {
        "id": "t2JFYkxopD8j"
      },
      "source": [
        "We can also take convolutions of convolutions -- we can stack as many convolutions as we want, as long as there are enough pixels to fit a kernel.\n",
        "\n",
        "*Warning: What you may find down there in those deep convolutions may not appear recognizable to you.*"
      ]
    },
    {
      "cell_type": "markdown",
      "metadata": {
        "id": "QsegzYTipD8j"
      },
      "source": [
        "<img src = 'go_deeper.jpg' >"
      ]
    },
    {
      "cell_type": "markdown",
      "metadata": {
        "id": "64lzKXcYpD8k"
      },
      "source": [
        "## Building a \"Deep\" Convolutional Neural Network"
      ]
    },
    {
      "cell_type": "code",
      "execution_count": 24,
      "metadata": {
        "collapsed": true,
        "id": "29Y3WjWQpD8k"
      },
      "outputs": [],
      "source": [
        "# import some additional tools\n",
        "\n",
        "from keras.preprocessing.image import ImageDataGenerator\n",
        "from keras.layers import Conv2D, MaxPooling2D, ZeroPadding2D, GlobalAveragePooling2D, Flatten\n",
        "from keras.layers import BatchNormalization"
      ]
    },
    {
      "cell_type": "code",
      "execution_count": 25,
      "metadata": {
        "collapsed": true,
        "id": "3A_qwAe3pD8k"
      },
      "outputs": [],
      "source": [
        "# Reload the MNIST data\n",
        "(X_train, y_train), (X_test, y_test) = mnist.load_data()"
      ]
    },
    {
      "cell_type": "code",
      "execution_count": 26,
      "metadata": {
        "id": "DQ75uoCZpD8k",
        "outputId": "96df8f87-acc5-41d2-f96b-09eae184a227",
        "colab": {
          "base_uri": "https://localhost:8080/"
        }
      },
      "outputs": [
        {
          "output_type": "stream",
          "name": "stdout",
          "text": [
            "Training matrix shape (60000, 28, 28, 1)\n",
            "Testing matrix shape (10000, 28, 28, 1)\n"
          ]
        }
      ],
      "source": [
        "# Again, do some formatting\n",
        "# Except we do not flatten each image into a 784-length vector because we want to perform convolutions first\n",
        "\n",
        "X_train = X_train.reshape(60000, 28, 28, 1) #add an additional dimension to represent the single-channel\n",
        "X_test = X_test.reshape(10000, 28, 28, 1)\n",
        "\n",
        "X_train = X_train.astype('float32')         # change integers to 32-bit floating point numbers\n",
        "X_test = X_test.astype('float32')\n",
        "\n",
        "X_train /= 255                              # normalize each value for each pixel for the entire vector for each input\n",
        "X_test /= 255\n",
        "\n",
        "print(\"Training matrix shape\", X_train.shape)\n",
        "print(\"Testing matrix shape\", X_test.shape)"
      ]
    },
    {
      "cell_type": "code",
      "execution_count": 27,
      "metadata": {
        "collapsed": true,
        "id": "uHZ8eoidpD8l"
      },
      "outputs": [],
      "source": [
        "# one-hot format classes\n",
        "\n",
        "nb_classes = 10 # number of unique digits\n",
        "\n",
        "Y_train = np_utils.to_categorical(y_train, nb_classes)\n",
        "Y_test = np_utils.to_categorical(y_test, nb_classes)"
      ]
    },
    {
      "cell_type": "code",
      "execution_count": 28,
      "metadata": {
        "collapsed": true,
        "id": "V6YMQ1HWpD8l"
      },
      "outputs": [],
      "source": [
        "model = Sequential()                                 # Linear stacking of layers\n",
        "\n",
        "# Convolution Layer 1\n",
        "model.add(Conv2D(32, (3, 3), input_shape=(28,28,1))) # 32 different 3x3 kernels -- so 32 feature maps\n",
        "model.add(BatchNormalization(axis=-1))               # normalize each feature map before activation\n",
        "convLayer01 = Activation('relu')                     # activation\n",
        "model.add(convLayer01)\n",
        "\n",
        "# Convolution Layer 2\n",
        "model.add(Conv2D(32, (3, 3)))                        # 32 different 3x3 kernels -- so 32 feature maps\n",
        "model.add(BatchNormalization(axis=-1))               # normalize each feature map before activation\n",
        "model.add(Activation('relu'))                        # activation\n",
        "convLayer02 = MaxPooling2D(pool_size=(2,2))          # Pool the max values over a 2x2 kernel\n",
        "model.add(convLayer02)\n",
        "\n",
        "# Convolution Layer 3\n",
        "model.add(Conv2D(64,(3, 3)))                         # 64 different 3x3 kernels -- so 64 feature maps\n",
        "model.add(BatchNormalization(axis=-1))               # normalize each feature map before activation\n",
        "convLayer03 = Activation('relu')                     # activation\n",
        "model.add(convLayer03)\n",
        "\n",
        "# Convolution Layer 4\n",
        "model.add(Conv2D(64, (3, 3)))                        # 64 different 3x3 kernels -- so 64 feature maps\n",
        "model.add(BatchNormalization(axis=-1))               # normalize each feature map before activation\n",
        "model.add(Activation('relu'))                        # activation\n",
        "convLayer04 = MaxPooling2D(pool_size=(2,2))          # Pool the max values over a 2x2 kernel\n",
        "model.add(convLayer04)\n",
        "model.add(Flatten())                                 # Flatten final 4x4x64 output matrix into a 1024-length vector\n",
        "\n",
        "# Fully Connected Layer 5\n",
        "model.add(Dense(512))                                # 512 FCN nodes\n",
        "model.add(BatchNormalization())                      # normalization\n",
        "model.add(Activation('relu'))                        # activation\n",
        "\n",
        "# Fully Connected Layer 6                       \n",
        "model.add(Dropout(0.2))                              # 20% dropout of randomly selected nodes\n",
        "model.add(Dense(10))                                 # final 10 FCN nodes\n",
        "model.add(Activation('softmax'))                     # softmax activation"
      ]
    },
    {
      "cell_type": "code",
      "execution_count": 29,
      "metadata": {
        "id": "IOJMkDf7pD8l",
        "outputId": "4faa807c-6783-4f75-bd40-2dab9351220f",
        "colab": {
          "base_uri": "https://localhost:8080/"
        }
      },
      "outputs": [
        {
          "output_type": "stream",
          "name": "stdout",
          "text": [
            "Model: \"sequential_1\"\n",
            "_________________________________________________________________\n",
            " Layer (type)                Output Shape              Param #   \n",
            "=================================================================\n",
            " conv2d (Conv2D)             (None, 26, 26, 32)        320       \n",
            "                                                                 \n",
            " batch_normalization (BatchN  (None, 26, 26, 32)       128       \n",
            " ormalization)                                                   \n",
            "                                                                 \n",
            " activation_3 (Activation)   (None, 26, 26, 32)        0         \n",
            "                                                                 \n",
            " conv2d_1 (Conv2D)           (None, 24, 24, 32)        9248      \n",
            "                                                                 \n",
            " batch_normalization_1 (Batc  (None, 24, 24, 32)       128       \n",
            " hNormalization)                                                 \n",
            "                                                                 \n",
            " activation_4 (Activation)   (None, 24, 24, 32)        0         \n",
            "                                                                 \n",
            " max_pooling2d (MaxPooling2D  (None, 12, 12, 32)       0         \n",
            " )                                                               \n",
            "                                                                 \n",
            " conv2d_2 (Conv2D)           (None, 10, 10, 64)        18496     \n",
            "                                                                 \n",
            " batch_normalization_2 (Batc  (None, 10, 10, 64)       256       \n",
            " hNormalization)                                                 \n",
            "                                                                 \n",
            " activation_5 (Activation)   (None, 10, 10, 64)        0         \n",
            "                                                                 \n",
            " conv2d_3 (Conv2D)           (None, 8, 8, 64)          36928     \n",
            "                                                                 \n",
            " batch_normalization_3 (Batc  (None, 8, 8, 64)         256       \n",
            " hNormalization)                                                 \n",
            "                                                                 \n",
            " activation_6 (Activation)   (None, 8, 8, 64)          0         \n",
            "                                                                 \n",
            " max_pooling2d_1 (MaxPooling  (None, 4, 4, 64)         0         \n",
            " 2D)                                                             \n",
            "                                                                 \n",
            " flatten (Flatten)           (None, 1024)              0         \n",
            "                                                                 \n",
            " dense_3 (Dense)             (None, 512)               524800    \n",
            "                                                                 \n",
            " batch_normalization_4 (Batc  (None, 512)              2048      \n",
            " hNormalization)                                                 \n",
            "                                                                 \n",
            " activation_7 (Activation)   (None, 512)               0         \n",
            "                                                                 \n",
            " dropout_2 (Dropout)         (None, 512)               0         \n",
            "                                                                 \n",
            " dense_4 (Dense)             (None, 10)                5130      \n",
            "                                                                 \n",
            " activation_8 (Activation)   (None, 10)                0         \n",
            "                                                                 \n",
            "=================================================================\n",
            "Total params: 597,738\n",
            "Trainable params: 596,330\n",
            "Non-trainable params: 1,408\n",
            "_________________________________________________________________\n"
          ]
        }
      ],
      "source": [
        "model.summary()"
      ]
    },
    {
      "cell_type": "code",
      "execution_count": 30,
      "metadata": {
        "collapsed": true,
        "id": "4t_hOdY3pD8m"
      },
      "outputs": [],
      "source": [
        "# we'll use the same optimizer\n",
        "\n",
        "model.compile(loss='categorical_crossentropy', optimizer='adam', metrics=['accuracy'])"
      ]
    },
    {
      "cell_type": "code",
      "execution_count": 31,
      "metadata": {
        "collapsed": true,
        "id": "PU9F1esdpD8m"
      },
      "outputs": [],
      "source": [
        "# data augmentation prevents overfitting by slightly changing the data randomly\n",
        "# Keras has a great built-in feature to do automatic augmentation\n",
        "\n",
        "gen = ImageDataGenerator(rotation_range=8, width_shift_range=0.08, shear_range=0.3,\n",
        "                         height_shift_range=0.08, zoom_range=0.08)\n",
        "\n",
        "test_gen = ImageDataGenerator()"
      ]
    },
    {
      "cell_type": "code",
      "execution_count": 32,
      "metadata": {
        "collapsed": true,
        "id": "KHcAw2oKpD8m"
      },
      "outputs": [],
      "source": [
        "# We can then feed our augmented data in batches\n",
        "# Besides loss function considerations as before, this method actually results in significant memory savings\n",
        "# because we are actually LOADING the data into the network in batches before processing each batch\n",
        "\n",
        "# Before the data was all loaded into memory, but then processed in batches.\n",
        "\n",
        "train_generator = gen.flow(X_train, Y_train, batch_size=128)\n",
        "test_generator = test_gen.flow(X_test, Y_test, batch_size=128)"
      ]
    },
    {
      "cell_type": "code",
      "execution_count": null,
      "metadata": {
        "id": "vDnsd_2RpD8m",
        "outputId": "d6c2f94e-9d8b-4172-8746-37d6cb3f58e6",
        "colab": {
          "base_uri": "https://localhost:8080/"
        }
      },
      "outputs": [
        {
          "output_type": "stream",
          "name": "stdout",
          "text": [
            "Epoch 1/5\n"
          ]
        },
        {
          "output_type": "stream",
          "name": "stderr",
          "text": [
            "<ipython-input-33-bdc01cb9b2a0>:6: UserWarning: `Model.fit_generator` is deprecated and will be removed in a future version. Please use `Model.fit`, which supports generators.\n",
            "  model.fit_generator(train_generator, steps_per_epoch=60000//128, epochs=5, verbose=1,\n"
          ]
        },
        {
          "output_type": "stream",
          "name": "stdout",
          "text": [
            "398/468 [========================>.....] - ETA: 27s - loss: 0.1529 - accuracy: 0.9534"
          ]
        }
      ],
      "source": [
        "# We can now train our model which is fed data by our batch loader\n",
        "# Steps per epoch should always be total size of the set divided by the batch size\n",
        "\n",
        "# SIGNIFICANT MEMORY SAVINGS (important for larger, deeper networks)\n",
        "\n",
        "model.fit_generator(train_generator, steps_per_epoch=60000//128, epochs=5, verbose=1, \n",
        "                    validation_data=test_generator, validation_steps=10000//128)"
      ]
    },
    {
      "cell_type": "code",
      "execution_count": null,
      "metadata": {
        "id": "3wH5LQEPpD8n"
      },
      "outputs": [],
      "source": [
        "score = model.evaluate(X_test, Y_test)\n",
        "print('Test score:', score[0])\n",
        "print('Test accuracy:', score[1])"
      ]
    },
    {
      "cell_type": "markdown",
      "metadata": {
        "id": "g4T8rVU_pD8n"
      },
      "source": [
        "## Great results! \n",
        "\n",
        "But wouldn't it be nice if we could visualize those convolutions so that we can see what the model is seeing?"
      ]
    },
    {
      "cell_type": "code",
      "execution_count": null,
      "metadata": {
        "collapsed": true,
        "id": "ZsbQmHytpD8n"
      },
      "outputs": [],
      "source": [
        "from keras import backend as K\n",
        "\n",
        "# choose any image to want by specifying the index\n",
        "img = X_test[3]\n",
        "img = np.expand_dims(img, axis=0) # Keras requires the image to be in 4D, so we add an extra dimension to it.\n",
        "\n",
        "# Not important to understand how this function work -- It just plots a convolution layer\n",
        "\n",
        "def visualize(layer):\n",
        "    inputs = [K.learning_phase()] + model.inputs\n",
        "    \n",
        "    _convout1_f = K.function(inputs, [layer.output])\n",
        "    \n",
        "    def convout1_f(X):\n",
        "        # The [0] is to disable the training phase flag\n",
        "        return _convout1_f([0] + [X])\n",
        "\n",
        "    convolutions = convout1_f(img)\n",
        "    convolutions = np.squeeze(convolutions)\n",
        "\n",
        "    print ('Shape of conv:', convolutions.shape)\n",
        "    \n",
        "    m = convolutions.shape[2]\n",
        "    n = int(np.ceil(np.sqrt(m)))\n",
        "    \n",
        "    # Visualization of each filter of the layer\n",
        "    fig = plt.figure(figsize=(15,12))\n",
        "    for i in range(m):\n",
        "        ax = fig.add_subplot(n,n,i+1)\n",
        "        ax.imshow(convolutions[:,:,i], cmap='gray')\n"
      ]
    },
    {
      "cell_type": "code",
      "execution_count": null,
      "metadata": {
        "id": "BVm59GLEpD8o"
      },
      "outputs": [],
      "source": [
        "plt.figure()\n",
        "plt.imshow(X_test[3].reshape(28,28), cmap='gray', interpolation='none')"
      ]
    },
    {
      "cell_type": "code",
      "execution_count": null,
      "metadata": {
        "id": "CbKF5teCpD8p"
      },
      "outputs": [],
      "source": [
        "visualize(convLayer01) # visualize first set of feature maps"
      ]
    },
    {
      "cell_type": "code",
      "execution_count": null,
      "metadata": {
        "id": "lyUM_y2fpD8q"
      },
      "outputs": [],
      "source": [
        "visualize(convLayer02) # visualize second set of feature maps"
      ]
    },
    {
      "cell_type": "code",
      "execution_count": null,
      "metadata": {
        "id": "jrxonSwqpD8q"
      },
      "outputs": [],
      "source": [
        "visualize(convLayer03)# visualize third set of feature maps"
      ]
    },
    {
      "cell_type": "code",
      "execution_count": null,
      "metadata": {
        "id": "JQPllem0pD8q"
      },
      "outputs": [],
      "source": [
        "visualize(convLayer04)# visualize fourth set of feature maps"
      ]
    },
    {
      "cell_type": "markdown",
      "metadata": {
        "id": "7_8MQ2zqpD8r"
      },
      "source": [
        "#### For a 3D visualization of a very similar network, visit http://scs.ryerson.ca/~aharley/vis/conv/"
      ]
    }
  ],
  "metadata": {
    "kernelspec": {
      "display_name": "Tensorflow (GPU)",
      "language": "python",
      "name": "py3.6-tfgpu"
    },
    "language_info": {
      "codemirror_mode": {
        "name": "ipython",
        "version": 3
      },
      "file_extension": ".py",
      "mimetype": "text/x-python",
      "name": "python",
      "nbconvert_exporter": "python",
      "pygments_lexer": "ipython3",
      "version": "3.6.6"
    },
    "colab": {
      "provenance": []
    }
  },
  "nbformat": 4,
  "nbformat_minor": 0
}